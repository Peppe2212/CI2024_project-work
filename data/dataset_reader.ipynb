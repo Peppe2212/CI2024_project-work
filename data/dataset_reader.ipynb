{
 "cells": [
  {
   "cell_type": "code",
   "execution_count": 3,
   "metadata": {},
   "outputs": [
    {
     "name": "stdout",
     "output_type": "stream",
     "text": [
      "dataset 1\n",
      "(500, 1)\n",
      "dataset 2\n",
      "(5000, 3)\n",
      "dataset 3\n",
      "(5000, 3)\n",
      "dataset 4\n",
      "(5000, 2)\n",
      "dataset 5\n",
      "(5000, 2)\n",
      "dataset 6\n",
      "(5000, 2)\n",
      "dataset 7\n",
      "(5000, 2)\n",
      "dataset 8\n",
      "(50000, 6)\n"
     ]
    }
   ],
   "source": [
    "import numpy as np\n",
    "def load_npz_dataset(file_path):\n",
    "    data = np.load(file_path)\n",
    "    features = data['x'].T\n",
    "    target = data['y']\n",
    "    return features, target\n",
    "\n",
    "for i in range(1, 9):\n",
    "    file_path = 'problem_{}.npz'.format(i)\n",
    "    features, target = load_npz_dataset(file_path)\n",
    "    print(f\"dataset {i}\")\n",
    "    print(features.shape)"
   ]
  }
 ],
 "metadata": {
  "kernelspec": {
   "display_name": "Code",
   "language": "python",
   "name": "python3"
  },
  "language_info": {
   "codemirror_mode": {
    "name": "ipython",
    "version": 3
   },
   "file_extension": ".py",
   "mimetype": "text/x-python",
   "name": "python",
   "nbconvert_exporter": "python",
   "pygments_lexer": "ipython3",
   "version": "3.9.6"
  }
 },
 "nbformat": 4,
 "nbformat_minor": 2
}
